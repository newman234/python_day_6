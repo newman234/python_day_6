{
 "cells": [
  {
   "cell_type": "code",
   "execution_count": 1,
   "id": "d0af7ad4",
   "metadata": {},
   "outputs": [],
   "source": [
    "#inheritancce and polymorphism"
   ]
  },
  {
   "cell_type": "code",
   "execution_count": 2,
   "id": "59a3a2e8",
   "metadata": {},
   "outputs": [],
   "source": [
    "class Animal():\n",
    "    def __init__(self):\n",
    "        print(\"animal created\")\n",
    "    def who_am_i(self):\n",
    "        print(\"i am an animal\")\n",
    "    def eat(self):\n",
    "        print(\"i am eating\")"
   ]
  },
  {
   "cell_type": "code",
   "execution_count": 5,
   "id": "92158f29",
   "metadata": {},
   "outputs": [],
   "source": [
    "class Dog(Animal):\n",
    "    def __init__(self):\n",
    "        Animal.__init__(self)\n",
    "        print(\"dog class created\")"
   ]
  },
  {
   "cell_type": "code",
   "execution_count": 6,
   "id": "02a618be",
   "metadata": {},
   "outputs": [
    {
     "name": "stdout",
     "output_type": "stream",
     "text": [
      "animal created\n",
      "dog class created\n"
     ]
    }
   ],
   "source": [
    "my_dog=Dog()"
   ]
  },
  {
   "cell_type": "code",
   "execution_count": 8,
   "id": "e2743443",
   "metadata": {},
   "outputs": [
    {
     "name": "stdout",
     "output_type": "stream",
     "text": [
      "i am eating\n"
     ]
    }
   ],
   "source": [
    "my_dog.eat()"
   ]
  },
  {
   "cell_type": "code",
   "execution_count": 9,
   "id": "acb30508",
   "metadata": {},
   "outputs": [
    {
     "name": "stdout",
     "output_type": "stream",
     "text": [
      "i am an animal\n"
     ]
    }
   ],
   "source": [
    "my_dog.who_am_i()"
   ]
  },
  {
   "cell_type": "code",
   "execution_count": 10,
   "id": "a5deee1d",
   "metadata": {},
   "outputs": [],
   "source": [
    "#overrideen dog class method"
   ]
  },
  {
   "cell_type": "code",
   "execution_count": 11,
   "id": "82b48d2d",
   "metadata": {},
   "outputs": [],
   "source": [
    "class cat(Animal):\n",
    "    def __init__(self):\n",
    "        Animal.__init__(self)\n",
    "        print(\"cat class is created\")\n",
    "    def eat(self):\n",
    "        print(\"cat is eating\")"
   ]
  },
  {
   "cell_type": "code",
   "execution_count": 12,
   "id": "028fa5da",
   "metadata": {},
   "outputs": [
    {
     "name": "stdout",
     "output_type": "stream",
     "text": [
      "animal created\n",
      "cat class is created\n"
     ]
    }
   ],
   "source": [
    "my_cat=cat()"
   ]
  },
  {
   "cell_type": "code",
   "execution_count": 13,
   "id": "f50ad167",
   "metadata": {},
   "outputs": [],
   "source": [
    "#abstract class in python"
   ]
  },
  {
   "cell_type": "code",
   "execution_count": 14,
   "id": "9faa57b1",
   "metadata": {},
   "outputs": [],
   "source": [
    "class Book():\n",
    "    def __init__(self,name):\n",
    "        self.name=name\n",
    "    def speak(self):\n",
    "        raise NotImplementedError(\"subclass implemented base class\")"
   ]
  },
  {
   "cell_type": "code",
   "execution_count": 16,
   "id": "d3ed5141",
   "metadata": {},
   "outputs": [],
   "source": [
    "my_book=Book(\"rich dad poor dad\")"
   ]
  },
  {
   "cell_type": "code",
   "execution_count": 17,
   "id": "13b99d32",
   "metadata": {},
   "outputs": [
    {
     "ename": "NotImplementedError",
     "evalue": "subclass implemented base class",
     "output_type": "error",
     "traceback": [
      "\u001b[0;31m---------------------------------------------------------------------------\u001b[0m",
      "\u001b[0;31mNotImplementedError\u001b[0m                       Traceback (most recent call last)",
      "\u001b[0;32m<ipython-input-17-aeaade5f8781>\u001b[0m in \u001b[0;36m<module>\u001b[0;34m\u001b[0m\n\u001b[0;32m----> 1\u001b[0;31m \u001b[0mmy_book\u001b[0m\u001b[0;34m.\u001b[0m\u001b[0mspeak\u001b[0m\u001b[0;34m(\u001b[0m\u001b[0;34m)\u001b[0m\u001b[0;34m\u001b[0m\u001b[0;34m\u001b[0m\u001b[0m\n\u001b[0m",
      "\u001b[0;32m<ipython-input-14-6642980e6781>\u001b[0m in \u001b[0;36mspeak\u001b[0;34m(self)\u001b[0m\n\u001b[1;32m      3\u001b[0m         \u001b[0mself\u001b[0m\u001b[0;34m.\u001b[0m\u001b[0mname\u001b[0m\u001b[0;34m=\u001b[0m\u001b[0mname\u001b[0m\u001b[0;34m\u001b[0m\u001b[0;34m\u001b[0m\u001b[0m\n\u001b[1;32m      4\u001b[0m     \u001b[0;32mdef\u001b[0m \u001b[0mspeak\u001b[0m\u001b[0;34m(\u001b[0m\u001b[0mself\u001b[0m\u001b[0;34m)\u001b[0m\u001b[0;34m:\u001b[0m\u001b[0;34m\u001b[0m\u001b[0;34m\u001b[0m\u001b[0m\n\u001b[0;32m----> 5\u001b[0;31m         \u001b[0;32mraise\u001b[0m \u001b[0mNotImplementedError\u001b[0m\u001b[0;34m(\u001b[0m\u001b[0;34m\"subclass implemented base class\"\u001b[0m\u001b[0;34m)\u001b[0m\u001b[0;34m\u001b[0m\u001b[0;34m\u001b[0m\u001b[0m\n\u001b[0m",
      "\u001b[0;31mNotImplementedError\u001b[0m: subclass implemented base class"
     ]
    }
   ],
   "source": [
    "my_book.speak()"
   ]
  },
  {
   "cell_type": "code",
   "execution_count": 18,
   "id": "bf89ab1e",
   "metadata": {},
   "outputs": [],
   "source": [
    "class new_book(Book):\n",
    "    def speak(self):\n",
    "        return self.name+\"says hello\""
   ]
  },
  {
   "cell_type": "code",
   "execution_count": 19,
   "id": "79f0d032",
   "metadata": {},
   "outputs": [],
   "source": [
    "n=new_book(\"the power thinking\")"
   ]
  },
  {
   "cell_type": "code",
   "execution_count": 20,
   "id": "27158015",
   "metadata": {},
   "outputs": [
    {
     "data": {
      "text/plain": [
       "'the power thinkingsays hello'"
      ]
     },
     "execution_count": 20,
     "metadata": {},
     "output_type": "execute_result"
    }
   ],
   "source": [
    "n.speak()"
   ]
  },
  {
   "cell_type": "code",
   "execution_count": 22,
   "id": "c6b6da37",
   "metadata": {},
   "outputs": [],
   "source": [
    "n2=new_book(\"logical thinking\")"
   ]
  },
  {
   "cell_type": "markdown",
   "id": "4c4ac9e9",
   "metadata": {},
   "source": []
  },
  {
   "cell_type": "code",
   "execution_count": 23,
   "id": "0412c71c",
   "metadata": {},
   "outputs": [
    {
     "data": {
      "text/plain": [
       "'logical thinkingsays hello'"
      ]
     },
     "execution_count": 23,
     "metadata": {},
     "output_type": "execute_result"
    }
   ],
   "source": [
    "n2.speak()"
   ]
  },
  {
   "cell_type": "code",
   "execution_count": 24,
   "id": "8a892f6a",
   "metadata": {},
   "outputs": [],
   "source": [
    "#magic or dunder method in python"
   ]
  },
  {
   "cell_type": "code",
   "execution_count": 31,
   "id": "f38c93fd",
   "metadata": {},
   "outputs": [],
   "source": [
    "class Book():\n",
    "    def __init__(self,title,author,page):\n",
    "        self.title=title\n",
    "        self.author=author\n",
    "        self.page=page\n",
    "    def __str__(self):\n",
    "        return f'{self.title} by {self.author}'\n",
    "    def __len__(self):\n",
    "        return self.page"
   ]
  },
  {
   "cell_type": "code",
   "execution_count": 32,
   "id": "02f4199a",
   "metadata": {},
   "outputs": [],
   "source": [
    "b=Book(\"python\",\"jose\",200)"
   ]
  },
  {
   "cell_type": "code",
   "execution_count": 33,
   "id": "ecf2328a",
   "metadata": {},
   "outputs": [
    {
     "name": "stdout",
     "output_type": "stream",
     "text": [
      "python by jose\n"
     ]
    }
   ],
   "source": [
    "print(b)"
   ]
  },
  {
   "cell_type": "code",
   "execution_count": 34,
   "id": "4ef761a7",
   "metadata": {},
   "outputs": [
    {
     "data": {
      "text/plain": [
       "200"
      ]
     },
     "execution_count": 34,
     "metadata": {},
     "output_type": "execute_result"
    }
   ],
   "source": [
    "len(b)"
   ]
  },
  {
   "cell_type": "code",
   "execution_count": 35,
   "id": "163abbc2",
   "metadata": {},
   "outputs": [],
   "source": [
    "#error and exception handling"
   ]
  },
  {
   "cell_type": "code",
   "execution_count": 38,
   "id": "178d9534",
   "metadata": {},
   "outputs": [
    {
     "name": "stdout",
     "output_type": "stream",
     "text": [
      "type error in addition\n"
     ]
    }
   ],
   "source": [
    "try:\n",
    "    result=10+'10';\n",
    "except:\n",
    "    print(\"type error in addition\")"
   ]
  },
  {
   "cell_type": "code",
   "execution_count": 37,
   "id": "99dd42d5",
   "metadata": {},
   "outputs": [
    {
     "data": {
      "text/plain": [
       "20"
      ]
     },
     "execution_count": 37,
     "metadata": {},
     "output_type": "execute_result"
    }
   ],
   "source": [
    "result"
   ]
  },
  {
   "cell_type": "code",
   "execution_count": 41,
   "id": "33a2b7bf",
   "metadata": {},
   "outputs": [
    {
     "name": "stdout",
     "output_type": "stream",
     "text": [
      "type error in addition\n"
     ]
    }
   ],
   "source": [
    "try:\n",
    "    result=10+'10'\n",
    "except:\n",
    "    print(\"type error in addition\")\n",
    "else:\n",
    "    print(\"addition going well\")"
   ]
  },
  {
   "cell_type": "code",
   "execution_count": 42,
   "id": "5df00658",
   "metadata": {},
   "outputs": [
    {
     "data": {
      "text/plain": [
       "20"
      ]
     },
     "execution_count": 42,
     "metadata": {},
     "output_type": "execute_result"
    }
   ],
   "source": [
    "result"
   ]
  },
  {
   "cell_type": "code",
   "execution_count": null,
   "id": "b7e5a19c",
   "metadata": {},
   "outputs": [],
   "source": []
  }
 ],
 "metadata": {
  "kernelspec": {
   "display_name": "Python 3",
   "language": "python",
   "name": "python3"
  },
  "language_info": {
   "codemirror_mode": {
    "name": "ipython",
    "version": 3
   },
   "file_extension": ".py",
   "mimetype": "text/x-python",
   "name": "python",
   "nbconvert_exporter": "python",
   "pygments_lexer": "ipython3",
   "version": "3.8.8"
  }
 },
 "nbformat": 4,
 "nbformat_minor": 5
}
